{
 "cells": [
  {
   "cell_type": "code",
   "execution_count": 15,
   "metadata": {},
   "outputs": [
    {
     "data": {
      "text/html": [
       "<div>\n",
       "<style scoped>\n",
       "    .dataframe tbody tr th:only-of-type {\n",
       "        vertical-align: middle;\n",
       "    }\n",
       "\n",
       "    .dataframe tbody tr th {\n",
       "        vertical-align: top;\n",
       "    }\n",
       "\n",
       "    .dataframe thead th {\n",
       "        text-align: right;\n",
       "    }\n",
       "</style>\n",
       "<table border=\"1\" class=\"dataframe\">\n",
       "  <thead>\n",
       "    <tr style=\"text-align: right;\">\n",
       "      <th></th>\n",
       "      <th>Pterygota</th>\n",
       "      <th>FIELD6</th>\n",
       "      <th>FIELD8</th>\n",
       "    </tr>\n",
       "  </thead>\n",
       "  <tbody>\n",
       "    <tr>\n",
       "      <th>24</th>\n",
       "      <td>Euphilotes</td>\n",
       "      <td>battoides</td>\n",
       "      <td>battoides</td>\n",
       "    </tr>\n",
       "    <tr>\n",
       "      <th>25</th>\n",
       "      <td>Euphilotes</td>\n",
       "      <td>battoides</td>\n",
       "      <td>allyni</td>\n",
       "    </tr>\n",
       "    <tr>\n",
       "      <th>27</th>\n",
       "      <td>Euphilotes</td>\n",
       "      <td>enoptes</td>\n",
       "      <td>enoptes</td>\n",
       "    </tr>\n",
       "    <tr>\n",
       "      <th>28</th>\n",
       "      <td>Euphilotes</td>\n",
       "      <td>enoptes</td>\n",
       "      <td>smithi</td>\n",
       "    </tr>\n",
       "    <tr>\n",
       "      <th>31</th>\n",
       "      <td>Icaricia</td>\n",
       "      <td>icarioides</td>\n",
       "      <td>icarioides</td>\n",
       "    </tr>\n",
       "  </tbody>\n",
       "</table>\n",
       "</div>"
      ],
      "text/plain": [
       "     Pterygota      FIELD6      FIELD8\n",
       "24  Euphilotes   battoides   battoides\n",
       "25  Euphilotes   battoides      allyni\n",
       "27  Euphilotes     enoptes     enoptes\n",
       "28  Euphilotes     enoptes      smithi\n",
       "31    Icaricia  icarioides  icarioides"
      ]
     },
     "execution_count": 15,
     "metadata": {},
     "output_type": "execute_result"
    }
   ],
   "source": [
    "import numpy as np\n",
    "import pandas as pd\n",
    "\n",
    "file_name = \"../data/data.json\"\n",
    "\n",
    "data = pd.read_json(file_name)\n",
    "cols = data.columns\n",
    "\n",
    "\"\"\"\n",
    "column 3 is a genus or subfamily\n",
    "column 5 is species\n",
    "\"\"\"\n",
    "\n",
    "keep_cols = [3, 5, 7]\n",
    "\n",
    "\"\"\"\n",
    "clean null values\n",
    "\"\"\"\n",
    "data = data[cols[keep_cols]]\n",
    "data = data.replace(\"\", np.nan).dropna()\n",
    "\n",
    "data.head()"
   ]
  },
  {
   "cell_type": "code",
   "execution_count": null,
   "metadata": {},
   "outputs": [],
   "source": []
  },
  {
   "cell_type": "code",
   "execution_count": null,
   "metadata": {},
   "outputs": [],
   "source": []
  }
 ],
 "metadata": {
  "kernelspec": {
   "display_name": "Python 3",
   "language": "python",
   "name": "python3"
  },
  "language_info": {
   "codemirror_mode": {
    "name": "ipython",
    "version": 3
   },
   "file_extension": ".py",
   "mimetype": "text/x-python",
   "name": "python",
   "nbconvert_exporter": "python",
   "pygments_lexer": "ipython3",
   "version": "3.7.5"
  }
 },
 "nbformat": 4,
 "nbformat_minor": 4
}
