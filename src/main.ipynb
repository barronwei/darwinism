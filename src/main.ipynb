{
 "cells": [
  {
   "cell_type": "code",
   "execution_count": null,
   "metadata": {},
   "outputs": [],
   "source": [
    "import secrets as sr\n",
    "from enum import Enum\n",
    "\n",
    "BLOCK_SIZE = 100\n",
    "\n",
    "class Nucleo(Enum):\n",
    "    A = 0\n",
    "    G = 1\n",
    "    T = 2\n",
    "    C = 3\n",
    "    \n",
    "class Change(Enum):\n",
    "    modify = 0\n",
    "    insert = 1\n",
    "    delete = 2\n",
    "\n",
    "class Genome():\n",
    "    def __init__(self, size):\n",
    "        self.__size = size\n",
    "        self.__data = self.__r_genome()\n",
    "        \n",
    "    def __r_nucleo(self):\n",
    "        return Nucleo(sr.randbelow(len(Nucleo))).name\n",
    "        \n",
    "    def __r_genome(self):\n",
    "        return str().join(map(str, [self.__r_nucleo() for i in range(self.__size)]))\n",
    "    \n",
    "    def __replacer(self, v, x):\n",
    "        self.__data = self.__data[0:x] + v + self.__data[x:]\n",
    "    \n",
    "    def __r_insert(self, x):\n",
    "        self.__replacer(self.__r_nucleo(), x)\n",
    "        \n",
    "    def __r_delete(self, x):\n",
    "        self.__replacer(str(), x)\n",
    "        \n",
    "    def __pair_map(self, v):\n",
    "        return {\n",
    "            'A': 'T',\n",
    "            'G': 'C',\n",
    "            'T': 'A',\n",
    "            'C': 'G',\n",
    "        }.get(v)\n",
    "        \n",
    "    def __r_modify(self, x):\n",
    "        self.__replacer(self.pair_map(self.__data[x]), x)\n",
    "    \n",
    "    def __switcher(self, v, x):\n",
    "        return {\n",
    "            '0': lambda x: self.__r_insert(x),\n",
    "            '1': lambda x: self.__r_delete(x),\n",
    "            '2': lambda x: self.__r_modify(x),\n",
    "        }.get(v)(x)\n",
    "    \n",
    "    def get_data(self):\n",
    "        return self.__data\n",
    "\n",
    "    def r_change(self):\n",
    "        loc = sr.randbelow(len(self.__data))\n",
    "        num = sr.randbelow(len(Change))\n",
    "        \n",
    "        mut = Change(num).value\n",
    "        \n",
    "        self.__switcher(str(mut), loc)"
   ]
  },
  {
   "cell_type": "code",
   "execution_count": null,
   "metadata": {},
   "outputs": [],
   "source": [
    "genome = Genome(BLOCK_SIZE)\n",
    "genome.get_data()"
   ]
  },
  {
   "cell_type": "code",
   "execution_count": null,
   "metadata": {},
   "outputs": [],
   "source": [
    "genome.r_change()\n",
    "genome.get_data()"
   ]
  }
 ],
 "metadata": {
  "kernelspec": {
   "display_name": "Python 3",
   "language": "python",
   "name": "python3"
  },
  "language_info": {
   "codemirror_mode": {
    "name": "ipython",
    "version": 3
   },
   "file_extension": ".py",
   "mimetype": "text/x-python",
   "name": "python",
   "nbconvert_exporter": "python",
   "pygments_lexer": "ipython3",
   "version": "3.7.5"
  }
 },
 "nbformat": 4,
 "nbformat_minor": 4
}
