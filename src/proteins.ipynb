{
 "cells": [
  {
   "cell_type": "code",
   "execution_count": 352,
   "metadata": {},
   "outputs": [],
   "source": [
    "from statistics import mode\n",
    "import numpy as np\n",
    "\n",
    "def checker(arr, p, i):\n",
    "    try:\n",
    "        return mode([pro[i] for pro in arr])\n",
    "    except:\n",
    "        return p[0][i]\n",
    "\n",
    "def predict(arr, p):\n",
    "    m = max(map(len, arr))\n",
    "    pro = [checker(arr, p, i) for i in range(m)]\n",
    "    return str().join(pro)\n",
    "\n",
    "def find_na(s):\n",
    "    for i, c in enumerate(s):\n",
    "        if c == '0':\n",
    "            print(i)\n",
    "            \n",
    "def shorter(a, b):\n",
    "    return a if len(a) < len(b) else b\n",
    "\n",
    "def compare(a, b):\n",
    "    l = len(shorter(a, b))\n",
    "    c = [a[i] == b[i] for i in range(l)]\n",
    "    return sum(c)\n",
    "\n",
    "def counter(arr, s):\n",
    "    return [compare(pro, s) for pro in arr]\n",
    "\n",
    "def r_fills(s, lst):\n",
    "    if lst:\n",
    "        return r_fills(s[:lst[0]]+ '0' + s[lst[0]:], lst[1:])\n",
    "    else:\n",
    "        return s\n",
    "    \n",
    "def fillers(arr, s, n):\n",
    "    empty = [len(s) for i in range(n)]\n",
    "    value = np.zeros(empty)\n",
    "    it = np.nditer(value, flags = ['multi_index'], op_flags = ['readwrite'])\n",
    "    \n",
    "    while not it.finished:\n",
    "        it[0] = sum(counter(arr, r_fills(s, it.multi_index)))\n",
    "        it.iternext()\n",
    "\n",
    "    return np.unravel_index(value.argmax(), value.shape)"
   ]
  },
  {
   "cell_type": "code",
   "execution_count": null,
   "metadata": {},
   "outputs": [],
   "source": []
  }
 ],
 "metadata": {
  "kernelspec": {
   "display_name": "Python 3",
   "language": "python",
   "name": "python3"
  },
  "language_info": {
   "codemirror_mode": {
    "name": "ipython",
    "version": 3
   },
   "file_extension": ".py",
   "mimetype": "text/x-python",
   "name": "python",
   "nbconvert_exporter": "python",
   "pygments_lexer": "ipython3",
   "version": "3.7.5"
  }
 },
 "nbformat": 4,
 "nbformat_minor": 4
}
