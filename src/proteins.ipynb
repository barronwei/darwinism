{
 "cells": [
  {
   "cell_type": "code",
   "execution_count": 95,
   "metadata": {},
   "outputs": [],
   "source": [
    "from statistics import mode\n",
    "import numpy as np\n",
    "\n",
    "\"\"\"\n",
    "This function returns false for the 0 string.\n",
    "\"\"\"\n",
    "\n",
    "def false_s(s):\n",
    "    return s != '0'\n",
    "\n",
    "\"\"\"\n",
    "This function recursively looks for a valid value in protein\n",
    "strand s at index i in the priority queue arr. This function\n",
    "returns an invalid value if a valid one is not available.\n",
    "\"\"\"\n",
    "\n",
    "def r_check(arr, s, i):\n",
    "    if false_s(arr[s][i]):\n",
    "        return arr[s][i]\n",
    "    \n",
    "    next = s + 1\n",
    "    \n",
    "    if next == len(arr):\n",
    "        return '0'\n",
    "    \n",
    "    r_check(arr, next, i)\n",
    "    \n",
    "\n",
    "\"\"\"\n",
    "This function returns the most common amino acid among the\n",
    "proteins in arr with ancestral priority of list p at index i.\n",
    "\"\"\"\n",
    "\n",
    "def checker(arr, p, i):\n",
    "    try:\n",
    "        m = mode([pro[i] for pro in arr])   \n",
    "        return m if false_s(m) else r_check(p, 0, i)\n",
    "    \n",
    "    except:\n",
    "        return r_check(p, 0, i) \n",
    "    \n",
    "\"\"\"\n",
    "This function predicts the ancestral protein of the proteins in arr\n",
    "that are all of the same length. Use fillers to accommodate lengths.\n",
    "\"\"\"\n",
    "\n",
    "def predict(arr, p):\n",
    "    m = max(map(len, arr))\n",
    "    pro = [checker(arr, p, i) for i in range(m)]\n",
    "    return str().join(pro)\n",
    "\n",
    "\"\"\"\n",
    "This function prints out the locations in s that are NA.\n",
    "\"\"\"\n",
    "\n",
    "def find_na(s):\n",
    "    for i, c in enumerate(s):\n",
    "        if c == '0':\n",
    "            print(i)\n",
    "           \n",
    "\"\"\"\n",
    "This function returns the shorter strand.\n",
    "\"\"\"\n",
    "            \n",
    "def shorter(a, b):\n",
    "    return a if len(a) < len(b) else b\n",
    "\n",
    "\"\"\"\n",
    "This function assists in the comparison between strands of proteins.\n",
    "\"\"\"\n",
    "\n",
    "def compare(a, b):\n",
    "    l = len(shorter(a, b))\n",
    "    c = [a[i] == b[i] for i in range(l)]\n",
    "    return sum(c)\n",
    "\n",
    "\"\"\"\n",
    "This function provides a list of the number of similarities between\n",
    "s and each of the strands in arr.\n",
    "\"\"\"\n",
    "\n",
    "def counter(arr, s):\n",
    "    return [compare(pro, s) for pro in arr]\n",
    "\n",
    "\"\"\"\n",
    "This function assists with recursively inserting placeholders into\n",
    "s at the locations in lst.\n",
    "\"\"\"\n",
    "\n",
    "def r_fills(s, lst):\n",
    "    if lst:\n",
    "        return r_fills(s[:lst[0]] + '0' + s[lst[0]:], lst[1:])\n",
    "    else:\n",
    "        return s\n",
    "    \n",
    "\"\"\"\n",
    "This function simulates the insertion of n placeholders to compare \n",
    "the similar proteins between s and strands in arr. This simulation\n",
    "returns the indices of where n placeholders should be for the\n",
    "maximum number of similarities.\n",
    "\"\"\"\n",
    "    \n",
    "def fillers(arr, s, n):\n",
    "    empty = [len(s) + 1 for i in range(n)]\n",
    "    value = np.zeros(empty)\n",
    "    it = np.nditer(value, flags = ['multi_index'], op_flags = ['readwrite'])\n",
    "    \n",
    "    while not it.finished:\n",
    "        it[0] = sum(counter(arr, r_fills(s, it.multi_index)))\n",
    "        it.iternext()\n",
    "\n",
    "    return np.unravel_index(value.argmax(), value.shape)"
   ]
  },
  {
   "cell_type": "code",
   "execution_count": 96,
   "metadata": {},
   "outputs": [],
   "source": [
    "zebrafish = 'MVIAVCIVLLITILSIAACITFCY'\n",
    "frog = 'VTIAVSLLLLLLILGLGSFATYYY'\n",
    "human = 'IATGMVGALLLLLVVALGIGLFM'"
   ]
  },
  {
   "cell_type": "code",
   "execution_count": 97,
   "metadata": {},
   "outputs": [],
   "source": [
    "chicken = 'ITIAVCIAVLLLLLGSLAAYCS'\n",
    "dog = 'VAAVAVGVVVLVLLLLLGLGG'"
   ]
  },
  {
   "cell_type": "code",
   "execution_count": 98,
   "metadata": {},
   "outputs": [],
   "source": [
    "same_lengths = [zebrafish, frog, human]"
   ]
  },
  {
   "cell_type": "code",
   "execution_count": 99,
   "metadata": {},
   "outputs": [],
   "source": [
    "new_chicken = r_fills(chicken, fillers(same_lengths, chicken, 2))"
   ]
  },
  {
   "cell_type": "code",
   "execution_count": 100,
   "metadata": {},
   "outputs": [],
   "source": [
    "new_dog = r_fills(dog, fillers(same_lengths, dog, 3))"
   ]
  },
  {
   "cell_type": "code",
   "execution_count": 101,
   "metadata": {},
   "outputs": [],
   "source": [
    "arr_predict = same_lengths + [new_chicken, new_dog]"
   ]
  },
  {
   "cell_type": "code",
   "execution_count": 102,
   "metadata": {},
   "outputs": [
    {
     "data": {
      "text/plain": [
       "'VAIAVCIALLLLVLGLLALGL0CG'"
      ]
     },
     "execution_count": 102,
     "metadata": {},
     "output_type": "execute_result"
    }
   ],
   "source": [
    "predict(arr_predict, [new_dog])"
   ]
  },
  {
   "cell_type": "code",
   "execution_count": 106,
   "metadata": {},
   "outputs": [
    {
     "data": {
      "text/plain": [
       "True"
      ]
     },
     "execution_count": 106,
     "metadata": {},
     "output_type": "execute_result"
    }
   ],
   "source": [
    "false_s('A')"
   ]
  },
  {
   "cell_type": "code",
   "execution_count": null,
   "metadata": {},
   "outputs": [],
   "source": []
  }
 ],
 "metadata": {
  "kernelspec": {
   "display_name": "Python 3",
   "language": "python",
   "name": "python3"
  },
  "language_info": {
   "codemirror_mode": {
    "name": "ipython",
    "version": 3
   },
   "file_extension": ".py",
   "mimetype": "text/x-python",
   "name": "python",
   "nbconvert_exporter": "python",
   "pygments_lexer": "ipython3",
   "version": "3.7.5"
  }
 },
 "nbformat": 4,
 "nbformat_minor": 4
}
