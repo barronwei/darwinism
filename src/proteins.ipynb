{
 "cells": [
  {
   "cell_type": "code",
   "execution_count": 323,
   "metadata": {},
   "outputs": [],
   "source": [
    "import numpy as np\n",
    "\n",
    "\"\"\"\n",
    "This function returns false for the 0 string.\n",
    "\"\"\"\n",
    "\n",
    "def false_s(s):\n",
    "    return s != '0'\n",
    "\n",
    "\"\"\"\n",
    "This function returns a list of modes in x.\n",
    "\"\"\"\n",
    "\n",
    "def mode_fn(x):\n",
    "    return [i for i in set(x) if x.count(i) == max(map(x.count, x))]\n",
    "\n",
    "\"\"\"\n",
    "This function recursively looks for a valid value in protein\n",
    "strand s at index i in the priority queue arr. This function\n",
    "returns an invalid value if a valid one is not available.\n",
    "\"\"\"\n",
    "\n",
    "def r_check(arr, s, i):\n",
    "    if false_s(arr[s][i]):\n",
    "        return arr[s][i]\n",
    "    \n",
    "    next = s + 1\n",
    "    \n",
    "    if next == len(arr):\n",
    "        return '0'\n",
    "    \n",
    "    r_check(arr, next, i)\n",
    "    \n",
    "\n",
    "\"\"\"\n",
    "This function returns the most common amino acid among the\n",
    "proteins in arr with ancestral priority of list p at index i.\n",
    "\"\"\"\n",
    "\n",
    "def checker(arr, p, i):\n",
    "    r = [s[i] for s in arr]\n",
    "    m = mode_fn(r)\n",
    "    \n",
    "    if len(m) == 1:\n",
    "        return m[0] if false_s(m[0]) else r_check(p, 0, i)\n",
    "    \n",
    "    lst = [c for c in p if c[i] in m]\n",
    "    \n",
    "    return r_check(lst, 0, i)\n",
    "\n",
    "    \n",
    "\"\"\"\n",
    "This function predicts the ancestral protein of the proteins in arr\n",
    "that are all of the same length. Use fillers to accommodate lengths.\n",
    "\"\"\"\n",
    "\n",
    "def predict(arr, p):\n",
    "    m = max(map(len, arr))\n",
    "    pro = [checker(arr, p, i) for i in range(m)]\n",
    "    return str().join(pro)\n",
    "\n",
    "\"\"\"\n",
    "This function prints out the locations in s that are NA.\n",
    "\"\"\"\n",
    "\n",
    "def find_na(s):\n",
    "    for i, c in enumerate(s):\n",
    "        if c == '0':\n",
    "            print(i)\n",
    "           \n",
    "\"\"\"\n",
    "This function returns the shorter strand.\n",
    "\"\"\"\n",
    "            \n",
    "def shorter(a, b):\n",
    "    return a if len(a) < len(b) else b\n",
    "\n",
    "\"\"\"\n",
    "This function assists in the comparison between strands of proteins.\n",
    "\"\"\"\n",
    "\n",
    "def compare(a, b):\n",
    "    l = len(shorter(a, b))\n",
    "    c = [a[i] == b[i] for i in range(l)]\n",
    "    return sum(c)\n",
    "\n",
    "\"\"\"\n",
    "This function provides a list of the number of similarities between\n",
    "s and each of the strands in arr.\n",
    "\"\"\"\n",
    "\n",
    "def counter(arr, s):\n",
    "    return [compare(pro, s) for pro in arr]\n",
    "\n",
    "\"\"\"\n",
    "This function assists with recursively inserting placeholders into\n",
    "s at the locations in lst.\n",
    "\"\"\"\n",
    "\n",
    "def r_fills(s, lst):\n",
    "    if lst:\n",
    "        return r_fills(s[:lst[0]] + '0' + s[lst[0]:], lst[1:])\n",
    "    else:\n",
    "        return s\n",
    "    \n",
    "\"\"\"\n",
    "This function simulates the insertion of n placeholders to compare \n",
    "the similar proteins between s and strands in arr. This simulation\n",
    "returns the indices of where n placeholders should be for the\n",
    "maximum number of similarities.\n",
    "\"\"\"\n",
    "    \n",
    "def fillers(arr, s, n):\n",
    "    empty = [len(s) + 1 for i in range(n)]\n",
    "    value = np.zeros(empty)\n",
    "    it = np.nditer(value, flags = ['multi_index'], op_flags = ['readwrite'])\n",
    "    \n",
    "    while not it.finished:\n",
    "        it[0] = sum(counter(arr, r_fills(s, it.multi_index)))\n",
    "        it.iternext()\n",
    "\n",
    "    return np.unravel_index(value.argmax(), value.shape)"
   ]
  },
  {
   "cell_type": "code",
   "execution_count": 324,
   "metadata": {},
   "outputs": [],
   "source": [
    "# Here is an example with the protein strand for epidermal growth factor in transmembrane domain!"
   ]
  },
  {
   "cell_type": "code",
   "execution_count": 325,
   "metadata": {},
   "outputs": [],
   "source": [
    "# protein strand of length 24 for zebrafish\n",
    "z = 'MVIAVCIVLLITILSIAACITFCY'\n",
    "\n",
    "# protein strand of length 24 for frog\n",
    "f = 'VTIAVSLLLLLLILGLGSFATYYY'"
   ]
  },
  {
   "cell_type": "code",
   "execution_count": 326,
   "metadata": {},
   "outputs": [],
   "source": [
    "# protein strand of length 23 for human\n",
    "h = 'IATGMVGALLLLLVVALGIGLFM'\n",
    "\n",
    "# protein strand of length 22 for chicken\n",
    "c = 'ITIAVCIAVLLLLLGSLAAYCS'\n",
    "\n",
    "# protein strand fo length 21 for dog\n",
    "d = 'VAAVAVGVVVLVLLLLLGLGG' "
   ]
  },
  {
   "cell_type": "code",
   "execution_count": 327,
   "metadata": {},
   "outputs": [
    {
     "data": {
      "text/plain": [
       "['MVIAVCIVLLITILSIAACITFCY', 'VTIAVSLLLLLLILGLGSFATYYY']"
      ]
     },
     "execution_count": 327,
     "metadata": {},
     "output_type": "execute_result"
    }
   ],
   "source": [
    "\"\"\"\n",
    "Let us use the fillers function to provide placeholders for human, chicken, and dog based on\n",
    "the strands of zebrafish and dog. We start this by including zebrafish and dog in a list.\n",
    "\"\"\"\n",
    "lst = [z, f]\n",
    "lst"
   ]
  },
  {
   "cell_type": "code",
   "execution_count": 328,
   "metadata": {},
   "outputs": [
    {
     "data": {
      "text/plain": [
       "(12,)"
      ]
     },
     "execution_count": 328,
     "metadata": {},
     "output_type": "execute_result"
    }
   ],
   "source": [
    "\"\"\"\n",
    "Now we can use fillers function to provide placeholders for human where 1 is the difference\n",
    "between the length of the human strand and the zebrafish or frog strand.\n",
    "\"\"\"\n",
    "h_i = fillers(lst, h, 1)\n",
    "\n",
    "\"\"\"\n",
    "12 is the location where 1 placeholder would make the human strand have the most amino acids\n",
    "in common with those of the zebrach and frog strands.\n",
    "\"\"\"\n",
    "h_i"
   ]
  },
  {
   "cell_type": "code",
   "execution_count": 329,
   "metadata": {},
   "outputs": [
    {
     "data": {
      "text/plain": [
       "'IATGMVGALLLL0LVVALGIGLFM'"
      ]
     },
     "execution_count": 329,
     "metadata": {},
     "output_type": "execute_result"
    }
   ],
   "source": [
    "\"\"\"\n",
    "Let us use r_fills to fill the human strand with a placeholder at this position.\n",
    "\"\"\"\n",
    "h_n = r_fills(h, h_i)\n",
    "\n",
    "\"\"\"\n",
    "Now we can see that plceholder at position 12.\n",
    "\"\"\"\n",
    "h_n"
   ]
  },
  {
   "cell_type": "code",
   "execution_count": 330,
   "metadata": {},
   "outputs": [
    {
     "data": {
      "text/plain": [
       "['MVIAVCIVLLITILSIAACITFCY',\n",
       " 'VTIAVSLLLLLLILGLGSFATYYY',\n",
       " 'IATGMVGALLLL0LVVALGIGLFM']"
      ]
     },
     "execution_count": 330,
     "metadata": {},
     "output_type": "execute_result"
    }
   ],
   "source": [
    "\"\"\"\n",
    "Now we can include this new simulation of a human strand in the list of strands that have \n",
    "the same length.\n",
    "\"\"\"\n",
    "lst.append(h_n)\n",
    "\n",
    "\n",
    "\"\"\"\n",
    "Here is that new list.\n",
    "\"\"\"\n",
    "lst"
   ]
  },
  {
   "cell_type": "code",
   "execution_count": 331,
   "metadata": {},
   "outputs": [
    {
     "data": {
      "text/plain": [
       "['MVIAVCIVLLITILSIAACITFCY',\n",
       " 'VTIAVSLLLLLLILGLGSFATYYY',\n",
       " 'IATGMVGALLLL0LVVALGIGLFM',\n",
       " 'ITIAVCIAVLLL0L0LGSLAAYCS',\n",
       " 'VAAVAVGVVVLV0L0LLLLGLGG0']"
      ]
     },
     "execution_count": 331,
     "metadata": {},
     "output_type": "execute_result"
    }
   ],
   "source": [
    "# Let us repeat the above steps for chicken, which has 2 fewer amino acids for that protein.\n",
    "c_i = fillers(lst, c, 2)\n",
    "\n",
    "# Fill with placeholders.\n",
    "c_n = r_fills(c, c_i)\n",
    "\n",
    "# Add this new strand to the list.\n",
    "lst.append(c_n)\n",
    "\n",
    "# Let us repeat the above steps for dog, which has 3 fewer amino acids for that protein.\n",
    "d_i = fillers(lst, c, 3)\n",
    "\n",
    "# Fill with placeholders.\n",
    "d_n = r_fills(d, d_i)\n",
    "\n",
    "# Add this new strand to the list.\n",
    "lst.append(d_n)\n",
    "\n",
    "# Let us view our new list with all strands at a length of 24.\n",
    "lst"
   ]
  },
  {
   "cell_type": "code",
   "execution_count": 333,
   "metadata": {},
   "outputs": [],
   "source": [
    "\"\"\"\n",
    "Now we can attempt to predict the ancestral strand of this protein by finding the mode of overlap \n",
    "for each location. If there is none, we take the amino acid at that location of the strand based \n",
    "on a priority queue, which places the strands of the older species first. Let us create that \n",
    "priority queue.\n",
    "\"\"\"\n",
    "queue = [z, f, c, d, h]\n",
    "\n",
    "\"\"\"\n",
    "Now we can run the predict function to see what the ancestral strand may have been.\n",
    "\"\"\"\n",
    "a = predict(lst, queue)"
   ]
  },
  {
   "cell_type": "code",
   "execution_count": 334,
   "metadata": {},
   "outputs": [
    {
     "data": {
      "text/plain": [
       "'VTIAVCIVLLLLILSLASLITYCY'"
      ]
     },
     "execution_count": 334,
     "metadata": {},
     "output_type": "execute_result"
    }
   ],
   "source": [
    "# Here is the ancestral strand prediction!\n",
    "a"
   ]
  }
 ],
 "metadata": {
  "kernelspec": {
   "display_name": "Python 3",
   "language": "python",
   "name": "python3"
  },
  "language_info": {
   "codemirror_mode": {
    "name": "ipython",
    "version": 3
   },
   "file_extension": ".py",
   "mimetype": "text/x-python",
   "name": "python",
   "nbconvert_exporter": "python",
   "pygments_lexer": "ipython3",
   "version": "3.7.5"
  }
 },
 "nbformat": 4,
 "nbformat_minor": 4
}
