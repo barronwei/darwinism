{
 "cells": [
  {
   "cell_type": "code",
   "execution_count": 1,
   "metadata": {},
   "outputs": [],
   "source": [
    "import random as rand\n",
    "import secrets as sec\n",
    "from enum import Enum\n",
    "\n",
    "\"\"\"\n",
    "This is a representation of nucleotides through an enumeration.\n",
    "This forces any value that is a nucleotide to have one of the following values: A, G, T, C!\n",
    "\"\"\"\n",
    "\n",
    "class Nucleo(Enum):\n",
    "    A = 0\n",
    "    G = 1\n",
    "    T = 2\n",
    "    C = 3\n",
    "    \n",
    "\"\"\"\n",
    "This is a representation of possible mutations that a nucleotide can go through.\n",
    "This forces any value that is a mutation to be a conversion, insertion, or deletion.\n",
    "\"\"\"\n",
    "    \n",
    "class Change(Enum):\n",
    "    modify = 0\n",
    "    insert = 1\n",
    "    delete = 2\n",
    "    \n",
    "\"\"\"\n",
    "This is a representation of a genome, which has only two accessible methods: get_data and r_change.\n",
    "In other words, we cannot tamper with the genome deterministically. This has to be done through\n",
    "r_change, which generates a random mutation. This is a representation of creationist ideology.\n",
    "\"\"\"\n",
    "\n",
    "class Genome:\n",
    "    def __init__(self, size):\n",
    "        self.__size = size\n",
    "        self.__data = self.__r_genome()\n",
    "        \n",
    "    def __r_nucleo(self):\n",
    "        return Nucleo(sec.randbelow(len(Nucleo))).name\n",
    "        \n",
    "    def __r_genome(self):\n",
    "        return str().join(map(str, [self.__r_nucleo() for i in range(self.__size)]))\n",
    "    \n",
    "    def __replacer(self, v, x):\n",
    "        self.__data = self.__data[0:x] + v + self.__data[x+1:]\n",
    "    \n",
    "    def __r_insert(self, x):\n",
    "        self.__replacer(self.__r_nucleo(), x)\n",
    "        \n",
    "    def __r_delete(self, x):\n",
    "        self.__replacer(str(), x)\n",
    "        \n",
    "    def __pair_map(self, v):\n",
    "        return {\n",
    "            'A': 'T',\n",
    "            'G': 'C',\n",
    "            'T': 'A',\n",
    "            'C': 'G',\n",
    "        }.get(v)\n",
    "        \n",
    "    def __r_modify(self, x):\n",
    "        self.__replacer(self.__pair_map(self.__data[x]), x)\n",
    "    \n",
    "    def __switcher(self, v, x):\n",
    "        return {\n",
    "            '0': lambda x: self.__r_insert(x),\n",
    "            '1': lambda x: self.__r_delete(x),\n",
    "            '2': lambda x: self.__r_modify(x),\n",
    "        }.get(v)(x)\n",
    "    \n",
    "    def get_data(self):\n",
    "        return self.__data\n",
    "\n",
    "    def r_change(self):\n",
    "        loc = sec.randbelow(len(self.__data))\n",
    "        num = sec.randbelow(len(Change))\n",
    "        \n",
    "        mut = Change(num).value\n",
    "        \n",
    "        self.__switcher(str(mut), loc)\n",
    "        \n",
    "\"\"\"\n",
    "This function finds the number of necessary mutations a random genome needs to go through until\n",
    "that genome matches s.\n",
    "\"\"\"\n",
    "        \n",
    "def n_finder(s):\n",
    "    g = Genome(len(s))\n",
    "    n = 0\n",
    "    \n",
    "    while (g.get_data() != s):\n",
    "        g.r_change()\n",
    "        n += 1\n",
    "\n",
    "    return n\n",
    "\n",
    "    \n",
    "\"\"\"\n",
    "This is a representation of a simple genome that can only go through conversions.\n",
    "This generates a random mutation that is able to convert to the input, s.\n",
    "\"\"\"\n",
    "\n",
    "class Genome_s:\n",
    "    def __init__(self, s):\n",
    "        self.__size = len(s)\n",
    "        self.__data = self.__d_genome(s)\n",
    "        \n",
    "    def __d_genome(self, s):\n",
    "        res = [self.__pair_map(n) if bool(rand.getrandbits(1)) else n for n in s]\n",
    "        return str().join(map(str, res))\n",
    "    \n",
    "    def __replacer(self, v, x):\n",
    "        self.__data = self.__data[0:x] + v + self.__data[x+1:]\n",
    "    \n",
    "    def __pair_map(self, v):\n",
    "        return {\n",
    "            'A': 'T',\n",
    "            'G': 'C',\n",
    "            'T': 'A',\n",
    "            'C': 'G',\n",
    "        }.get(v)\n",
    "        \n",
    "    def __r_modify(self, x):\n",
    "        self.__replacer(self.__pair_map(self.__data[x]), x)\n",
    "    \n",
    "    def get_data(self):\n",
    "        return self.__data\n",
    "\n",
    "    def r_change(self):\n",
    "        loc = sec.randbelow(self.__size)\n",
    "        self.__r_modify(loc)\n",
    "        \n",
    "\"\"\"\n",
    "This function finds the number of necessary mutations a random simple genome needs to go \n",
    "through until that simple genome matches s.\n",
    "\"\"\"\n",
    "        \n",
    "def n_finder_s(s):\n",
    "    g = Genome_s(s)\n",
    "    n = 0\n",
    "    \n",
    "    while (g.get_data() != s):\n",
    "        g.r_change()\n",
    "        n += 1\n",
    "\n",
    "    return n"
   ]
  },
  {
   "cell_type": "code",
   "execution_count": 3,
   "metadata": {},
   "outputs": [
    {
     "data": {
      "text/plain": [
       "'TGGCTGAAGGTCTCGTTAGTA'"
      ]
     },
     "execution_count": 3,
     "metadata": {},
     "output_type": "execute_result"
    }
   ],
   "source": [
    "\"\"\"\n",
    "Let us generate a random genome of size 21!\n",
    "\"\"\"\n",
    "g = Genome(21)\n",
    "\n",
    "\"\"\"\n",
    "Let us see that genome!\n",
    "\"\"\"\n",
    "g.get_data()"
   ]
  },
  {
   "cell_type": "code",
   "execution_count": 6,
   "metadata": {},
   "outputs": [
    {
     "data": {
      "text/plain": [
       "'TGGCGAAGGTTCGTTAGTA'"
      ]
     },
     "execution_count": 6,
     "metadata": {},
     "output_type": "execute_result"
    }
   ],
   "source": [
    "\"\"\"\n",
    "Let us see that genome go through a mutation!\n",
    "\"\"\"\n",
    "g.r_change()\n",
    "\n",
    "\"\"\"\n",
    "The genome underwent a change, which appears to be a deletion!\n",
    "\"\"\"\n",
    "g.get_data()"
   ]
  },
  {
   "cell_type": "code",
   "execution_count": 13,
   "metadata": {},
   "outputs": [],
   "source": [
    "\"\"\"\n",
    "We can try to use n_finder on this genome, but this may take an incredibly large amount of time \n",
    "due to the variability in mutation. Let us use the simple genome instead! Let us see how many \n",
    "mutations are necesssary to achieve this genome from a random genome!\n",
    "\"\"\"\n",
    "a = 'CCCTTGTTTTAGCCGCCGAAA'\n",
    "\n",
    "\"\"\"\n",
    "Let us run n_finder_s on this simple genome!\n",
    "\"\"\"\n",
    "n = n_finder_s(a)"
   ]
  },
  {
   "cell_type": "code",
   "execution_count": 14,
   "metadata": {},
   "outputs": [
    {
     "data": {
      "text/plain": [
       "3039947"
      ]
     },
     "execution_count": 14,
     "metadata": {},
     "output_type": "execute_result"
    }
   ],
   "source": [
    "\"\"\"\n",
    "This is the number of mutations that a randomly genome needs to go through in order to achieve\n",
    "\"\"\"\n",
    "n"
   ]
  }
 ],
 "metadata": {
  "kernelspec": {
   "display_name": "Python 3",
   "language": "python",
   "name": "python3"
  },
  "language_info": {
   "codemirror_mode": {
    "name": "ipython",
    "version": 3
   },
   "file_extension": ".py",
   "mimetype": "text/x-python",
   "name": "python",
   "nbconvert_exporter": "python",
   "pygments_lexer": "ipython3",
   "version": "3.7.5"
  }
 },
 "nbformat": 4,
 "nbformat_minor": 4
}
